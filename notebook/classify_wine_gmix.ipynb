{
 "cells": [
  {
   "cell_type": "code",
   "execution_count": 10,
   "metadata": {},
   "outputs": [
    {
     "name": "stdout",
     "output_type": "stream",
     "text": [
      "[2 2 2 1 2 2 2 2 2 1 2 2 2 2 1 1 2 2 1 2 2 2 2 2 2 2 2 2 2 2 2 1 2 2 2 2 2\n",
      " 2 2 2 2 2 2 2 2 2 2 2 2 1 1 2 1 2 2 2 2 2 1 0 0 2 2 2 0 2 2 2 2 0 0 2 2 2\n",
      " 0 0 2 0 0 0 0 2 0 2 0 0 0 0 0 0 0 0 0 0 0 0 0 0 2 0 0 0 0 0 0 0 0 0 0 0 0\n",
      " 0 0 0 0 0 0 0 0 0 0 2 0 0 0 0 2 0 0 0 2 2 2 2 2 1 2 2 2 2 2 2 2 2 1 2 2 1\n",
      " 1 1 1 1 1 1 1 1 1 1 1 1 1 2 2 2 1 1 1 1 1 1 2 1 1 1 1 1 1 1]\n",
      "[[12.10512375  2.24646638  2.71214786]\n",
      " [13.41211655  2.42196219  8.15853137]\n",
      " [13.35754335  2.41421726  4.91376264]]\n",
      "[[[ 1.48250639e-01 -2.55620191e-02 -7.26697558e-03]\n",
      "  [-2.55620191e-02  8.60832734e-02  2.57551462e-02]\n",
      "  [-7.26697558e-03  2.57551462e-02  2.97357750e-01]]\n",
      "\n",
      " [[ 3.35660782e-01  3.88077502e-02  8.14364115e-02]\n",
      "  [ 3.88077502e-02  3.47221426e-02  8.21023051e-02]\n",
      "  [ 8.14364115e-02  8.21023051e-02  3.36431207e+00]]\n",
      "\n",
      " [[ 4.18417181e-01 -6.52479096e-04  2.05819268e-01]\n",
      "  [-6.52479096e-04  7.58233696e-02  2.99421950e-02]\n",
      "  [ 2.05819268e-01  2.99421950e-02  9.55872512e-01]]]\n"
     ]
    }
   ],
   "source": [
    "from sklearn.datasets import load_wine\n",
    "from sklearn.mixture import GaussianMixture\n",
    "\n",
    "data = load_wine()\n",
    "\n",
    "n_components =3\n",
    "model = GaussianMixture(n_components=n_components)\n",
    "#X = data.data[:, [0, 9]]\n",
    "X = data.data[:, [0, 2, 9]]\n",
    "model.fit(X)\n",
    "pred = model.predict(X)\n",
    "\n",
    "print(pred)\n",
    "print(model.means_)\n",
    "print(model.covariances_)"
   ]
  },
  {
   "cell_type": "code",
   "execution_count": 12,
   "metadata": {},
   "outputs": [
    {
     "data": {
      "image/png": "[encoded data removed]",
      "text/plain": [
       "<Figure size 432x288 with 1 Axes>"
      ]
     },
     "metadata": {
      "needs_background": "light"
     },
     "output_type": "display_data"
    }
   ],
   "source": [
    "%matplotlib inline\n",
    "import matplotlib.pyplot as plt\n",
    "\n",
    "fig, ax = plt.subplots()\n",
    "ax.scatter(X[pred==0, 0], X[pred==0, 1], color='red', marker='s', label='Label1')\n",
    "ax.scatter(X[pred==1, 0], X[pred==1, 1], color='blue', marker='s', label='Label2')\n",
    "ax.scatter(X[pred==2, 0], X[pred==2, 1], color='green', marker='s', label='Label3')\n",
    "#ax.scatter(model.cluster_centers_[:, 0], model.cluster_centers_[:, 1], s=200, color='yellow', marker='*', label='center')\n",
    "ax.legend()\n",
    "plt.show()"
   ]
  },
  {
   "cell_type": "code",
   "execution_count": null,
   "metadata": {},
   "outputs": [],
   "source": []
  }
 ],
 "metadata": {
  "kernelspec": {
   "display_name": "Python 3",
   "language": "python",
   "name": "python3"
  },
  "language_info": {
   "codemirror_mode": {
    "name": "ipython",
    "version": 3
   },
   "file_extension": ".py",
   "mimetype": "text/x-python",
   "name": "python",
   "nbconvert_exporter": "python",
   "pygments_lexer": "ipython3",
   "version": "3.7.6"
  }
 },
 "nbformat": 4,
 "nbformat_minor": 4
}
