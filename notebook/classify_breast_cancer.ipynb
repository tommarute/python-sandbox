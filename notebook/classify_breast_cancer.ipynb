{
 "cells": [
  {
   "cell_type": "code",
   "execution_count": 1,
   "metadata": {},
   "outputs": [],
   "source": [
    "from sklearn.datasets import load_breast_cancer\n",
    "\n",
    "data = load_breast_cancer()\n",
    "X = data.data\n",
    "y = data.target"
   ]
  },
  {
   "cell_type": "code",
   "execution_count": 2,
   "metadata": {},
   "outputs": [
    {
     "name": "stdout",
     "output_type": "stream",
     "text": [
      "for_pred = 455\n",
      "len(X) = 569\n",
      "len(y) = 569\n",
      "len(X1) = 455\n",
      "len(y1) = 455\n",
      "len(X2) = 113\n",
      "len(y2) = 113\n"
     ]
    }
   ],
   "source": [
    "# 80% of data is used by prediction\n",
    "for_pred = int(len(X)*0.8)\n",
    "\n",
    "X1 = X[:for_pred, :10]\n",
    "y1 = y[:for_pred]\n",
    "\n",
    "# 20% of data is used by evaluation\n",
    "X2 = X[for_pred + 1:, :10]\n",
    "y2 = y[for_pred + 1:]\n",
    "\n",
    "# Checking number of data\n",
    "print(f'for_pred = {for_pred}')\n",
    "print(f'len(X) = {len(X)}')\n",
    "print(f'len(y) = {len(y)}')\n",
    "print(f'len(X1) = {len(X1)}')\n",
    "print(f'len(y1) = {len(y1)}')\n",
    "print(f'len(X2) = {len(X2)}')\n",
    "print(f'len(y2) = {len(y2)}')"
   ]
  },
  {
   "cell_type": "code",
   "execution_count": 3,
   "metadata": {},
   "outputs": [
    {
     "data": {
      "text/plain": [
       "LogisticRegression(C=1.0, class_weight=None, dual=False, fit_intercept=True,\n",
       "                   intercept_scaling=1, l1_ratio=None, max_iter=1000,\n",
       "                   multi_class='auto', n_jobs=None, penalty='l2',\n",
       "                   random_state=None, solver='lbfgs', tol=0.0001, verbose=0,\n",
       "                   warm_start=False)"
      ]
     },
     "execution_count": 3,
     "metadata": {},
     "output_type": "execute_result"
    }
   ],
   "source": [
    "# Learning\n",
    "from sklearn.linear_model import LogisticRegression\n",
    "\n",
    "model = LogisticRegression(max_iter=1000)\n",
    "model.fit(X1, y1)"
   ]
  },
  {
   "cell_type": "code",
   "execution_count": 4,
   "metadata": {},
   "outputs": [],
   "source": [
    "# Prediction\n",
    "y_pred = model.predict(X2)"
   ]
  },
  {
   "cell_type": "code",
   "execution_count": 5,
   "metadata": {},
   "outputs": [
    {
     "data": {
      "text/plain": [
       "0.9026548672566371"
      ]
     },
     "execution_count": 5,
     "metadata": {},
     "output_type": "execute_result"
    }
   ],
   "source": [
    "# Evaluation\n",
    "from sklearn.metrics import accuracy_score\n",
    "\n",
    "accuracy_score(y2, y_pred)"
   ]
  },
  {
   "cell_type": "code",
   "execution_count": null,
   "metadata": {},
   "outputs": [],
   "source": []
  }
 ],
 "metadata": {
  "kernelspec": {
   "display_name": "Python 3",
   "language": "python",
   "name": "python3"
  },
  "language_info": {
   "codemirror_mode": {
    "name": "ipython",
    "version": 3
   },
   "file_extension": ".py",
   "mimetype": "text/x-python",
   "name": "python",
   "nbconvert_exporter": "python",
   "pygments_lexer": "ipython3",
   "version": "3.7.6"
  }
 },
 "nbformat": 4,
 "nbformat_minor": 4
}
